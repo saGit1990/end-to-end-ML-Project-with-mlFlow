{
 "cells": [
  {
   "cell_type": "code",
   "execution_count": 2,
   "metadata": {},
   "outputs": [
    {
     "data": {
      "text/plain": [
       "'c:\\\\Users\\\\Suel.Abbasi\\\\Desktop\\\\DSA\\\\projects\\\\end to end ml project\\\\end-to-end-ML-Project-with-mlFlow\\\\research'"
      ]
     },
     "execution_count": 2,
     "metadata": {},
     "output_type": "execute_result"
    }
   ],
   "source": [
    "%pwd"
   ]
  },
  {
   "cell_type": "code",
   "execution_count": 3,
   "metadata": {},
   "outputs": [],
   "source": [
    "import os\n",
    "os.chdir('../')"
   ]
  },
  {
   "cell_type": "code",
   "execution_count": 4,
   "metadata": {},
   "outputs": [
    {
     "data": {
      "text/plain": [
       "'c:\\\\Users\\\\Suel.Abbasi\\\\Desktop\\\\DSA\\\\projects\\\\end to end ml project\\\\end-to-end-ML-Project-with-mlFlow'"
      ]
     },
     "execution_count": 4,
     "metadata": {},
     "output_type": "execute_result"
    }
   ],
   "source": [
    "%pwd"
   ]
  },
  {
   "cell_type": "code",
   "execution_count": 5,
   "metadata": {},
   "outputs": [],
   "source": [
    "os.environ['MLFLOW_TRACKING_URI'] = 'https://dagshub.com/saGit1990/end-to-end-ML-Project-with-mlFlow'\n",
    "os.environ['MLFLOW_TRACKING_USERNAME'] = 'fafd6a840e364a6ae6d5357b678a3f3f86b2bc39'"
   ]
  },
  {
   "cell_type": "code",
   "execution_count": null,
   "metadata": {},
   "outputs": [],
   "source": [
    "from dataclasses import dataclass \n",
    "from pathlib import Path \n",
    "\n",
    "@dataclass(frozen=True)\n",
    "class ModelEvaluationConfig:\n",
    "    root_dir: Path\n",
    "    test_data_path: Path\n",
    "    model_path: Path \n",
    "    metric_file_name: Path \n",
    "    all_params: dict \n",
    "    target_column: str \n",
    "    mlflow_uri: str"
   ]
  },
  {
   "cell_type": "code",
   "execution_count": 27,
   "metadata": {},
   "outputs": [],
   "source": [
    "from mlProject.constants import *\n",
    "from mlProject.utils.common import read_yaml, create_directories, save_json"
   ]
  },
  {
   "cell_type": "code",
   "execution_count": 28,
   "metadata": {},
   "outputs": [],
   "source": [
    "class ConfigurationManager:\n",
    "    def __init__(\n",
    "        self,\n",
    "        config_path = CONFIG_FILE_PATH,\n",
    "        params_path = PARAMS_FILE_PATH,\n",
    "        schema_path = SCHEMA_FILE_PATH\n",
    "    ):\n",
    "        self.config = read_yaml(config_path)\n",
    "        self.params = read_yaml(params_path)\n",
    "        self.schema = read_yaml(schema_path)\n",
    "        \n",
    "        create_directories([self.config.artifacts_root])\n",
    "        \n",
    "    def get_model_evaluation_config(self) -> ModelEvaluationConfig:\n",
    "        config = self.config.model_evaluation\n",
    "        \n",
    "        create_directories([config.root_dir])\n",
    "        \n",
    "        model_evaluation_config = ModelEvaluationConfig(\n",
    "            root_dir=config.root_dir,\n",
    "            test_data_path=config.test_data_path,\n",
    "            model_path= config.model_path,\n",
    "            metric_file_name=config.metric_file_name,\n",
    "            all_params= self.params,\n",
    "            target_column= self.schema.TARGET_COLUMN.name,\n",
    "            mlflow_uri= 'https://dagshub.com/saGit1990/end-to-end-ML-Project-with-mlFlow.mlflow'\n",
    "        )\n",
    "        \n",
    "        return model_evaluation_config"
   ]
  },
  {
   "cell_type": "code",
   "execution_count": 29,
   "metadata": {},
   "outputs": [],
   "source": [
    "import os\n",
    "import pandas as pd \n",
    "from sklearn.metrics import mean_squared_error, mean_absolute_error, r2_score\n",
    "from urllib.parse import urlparse \n",
    "import mlflow \n",
    "import mlflow.sklearn \n",
    "import numpy as np \n",
    "import joblib\n",
    "from mlProject import logger\n",
    "import dagshub"
   ]
  },
  {
   "cell_type": "code",
   "execution_count": 30,
   "metadata": {},
   "outputs": [],
   "source": [
    "class ModelEvaluation:\n",
    "    def __init__(self, config = ModelEvaluationConfig):\n",
    "        self.config = config \n",
    "        \n",
    "    def eval_metrics(self, actual, pred):\n",
    "        rmse = np.sqrt(mean_absolute_error(actual,pred))\n",
    "        mae = mean_absolute_error(actual,pred)\n",
    "        r2 = r2_score(actual, pred) \n",
    "        return rmse, mae , r2\n",
    "    \n",
    "    def log_into_mlflow(self):\n",
    "        test_data = pd.read_csv(self.config.test_data_path)\n",
    "        model = joblib.load(self.config.model_path)\n",
    "        test_x = test_data.drop([self.config.target_column], axis = 1)\n",
    "        test_y = test_data[[self.config.target_column]]\n",
    "        \n",
    "        mlflow.set_registry_uri(self.config.mlflow_uri)\n",
    "        tracking_url_type_store = urlparse(mlflow.get_tracking_uri()).scheme\n",
    "        dagshub.init(repo_owner='saGit1990', repo_name= 'end-to-end-ML-Project-with-mlFlow', mlflow=True)\n",
    "        \n",
    "        with mlflow.start_run():\n",
    "            predicted_qualities = model.predict(test_x)\n",
    "            \n",
    "            rmse, mae, r2 = self.eval_metrics(test_y, predicted_qualities)\n",
    "            logger.info(type(rmse))\n",
    "            # saving the metrics as local file\n",
    "            scores = {'rmse': rmse, 'mae': mae, 'r2': r2}\n",
    "            save_json(path = Path(self.config.metric_file_name), data=scores)\n",
    "            \n",
    "            mlflow.log_params(self.config.all_params)\n",
    "            \n",
    "            mlflow.log_metrics(scores)\n",
    "            \n",
    "            if tracking_url_type_store != 'file':\n",
    "                # register the model\n",
    "                mlflow.sklearn.log_model(model, 'model', registered_model_name='ElastNetModel')\n",
    "            else:\n",
    "                mlflow.sklearn.log_model(model,'model')\n",
    "            "
   ]
  },
  {
   "cell_type": "code",
   "execution_count": 31,
   "metadata": {},
   "outputs": [
    {
     "name": "stdout",
     "output_type": "stream",
     "text": [
      "[2025-03-01 04:12:31,114: INFO: common: yaml file: config\\config.yaml loaded successfully]\n",
      "[2025-03-01 04:12:31,118: INFO: common: yaml file: params.yaml loaded successfully]\n",
      "[2025-03-01 04:12:31,123: INFO: common: yaml file: schema.yaml loaded successfully]\n",
      "[2025-03-01 04:12:31,125: INFO: common: created directory at: artifacts]\n",
      "[2025-03-01 04:12:31,130: INFO: common: created directory at: artifacts/model_evaluation]\n",
      "[2025-03-01 04:12:31,985: INFO: _client: HTTP Request: GET https://dagshub.com/api/v1/repos/saGit1990/end-to-end-ML-Project-with-mlFlow \"HTTP/1.1 200 OK\"]\n"
     ]
    },
    {
     "data": {
      "text/html": [
       "<pre style=\"white-space:pre;overflow-x:auto;line-height:normal;font-family:Menlo,'DejaVu Sans Mono',consolas,'Courier New',monospace\">Initialized MLflow to track repo <span style=\"color: #008000; text-decoration-color: #008000\">\"saGit1990/end-to-end-ML-Project-with-mlFlow\"</span>\n",
       "</pre>\n"
      ],
      "text/plain": [
       "Initialized MLflow to track repo \u001b[32m\"saGit1990/end-to-end-ML-Project-with-mlFlow\"\u001b[0m\n"
      ]
     },
     "metadata": {},
     "output_type": "display_data"
    },
    {
     "name": "stdout",
     "output_type": "stream",
     "text": [
      "[2025-03-01 04:12:31,986: INFO: helpers: Initialized MLflow to track repo \"saGit1990/end-to-end-ML-Project-with-mlFlow\"]\n"
     ]
    },
    {
     "data": {
      "text/html": [
       "<pre style=\"white-space:pre;overflow-x:auto;line-height:normal;font-family:Menlo,'DejaVu Sans Mono',consolas,'Courier New',monospace\">Repository saGit1990/end-to-end-ML-Project-with-mlFlow initialized!\n",
       "</pre>\n"
      ],
      "text/plain": [
       "Repository saGit1990/end-to-end-ML-Project-with-mlFlow initialized!\n"
      ]
     },
     "metadata": {},
     "output_type": "display_data"
    },
    {
     "name": "stdout",
     "output_type": "stream",
     "text": [
      "[2025-03-01 04:12:31,986: INFO: helpers: Repository saGit1990/end-to-end-ML-Project-with-mlFlow initialized!]\n",
      "[2025-03-01 04:12:32,405: INFO: 2234356749: <class 'numpy.float64'>]\n",
      "[2025-03-01 04:12:32,415: INFO: common: json file saved at: artifacts\\model_evaluation\\metrics.json]\n"
     ]
    },
    {
     "name": "stderr",
     "output_type": "stream",
     "text": [
      "2025/03/01 04:12:38 WARNING mlflow.models.model: Model logged without a signature and input example. Please set `input_example` parameter when logging the model to auto infer the model signature.\n",
      "Registered model 'ElastNetModel' already exists. Creating a new version of this model...\n",
      "2025/03/01 04:12:43 INFO mlflow.store.model_registry.abstract_store: Waiting up to 300 seconds for model version to finish creation. Model name: ElastNetModel, version 2\n",
      "Created version '2' of model 'ElastNetModel'.\n"
     ]
    },
    {
     "name": "stdout",
     "output_type": "stream",
     "text": [
      "🏃 View run clumsy-gull-254 at: https://dagshub.com/saGit1990/end-to-end-ML-Project-with-mlFlow.mlflow/#/experiments/0/runs/9893df7a67d44ef28486eb048ea4928e\n",
      "🧪 View experiment at: https://dagshub.com/saGit1990/end-to-end-ML-Project-with-mlFlow.mlflow/#/experiments/0\n"
     ]
    }
   ],
   "source": [
    "try:\n",
    "    config = ConfigurationManager()\n",
    "    model_evaluation_config = config.get_model_evaluation_config()\n",
    "    model_evaluation = ModelEvaluation(config=model_evaluation_config)\n",
    "    model_evaluation.log_into_mlflow()\n",
    "except Exception as e:\n",
    "    raise e"
   ]
  },
  {
   "cell_type": "code",
   "execution_count": null,
   "metadata": {},
   "outputs": [],
   "source": []
  }
 ],
 "metadata": {
  "kernelspec": {
   "display_name": "venv",
   "language": "python",
   "name": "python3"
  },
  "language_info": {
   "codemirror_mode": {
    "name": "ipython",
    "version": 3
   },
   "file_extension": ".py",
   "mimetype": "text/x-python",
   "name": "python",
   "nbconvert_exporter": "python",
   "pygments_lexer": "ipython3",
   "version": "3.10.14"
  }
 },
 "nbformat": 4,
 "nbformat_minor": 2
}
